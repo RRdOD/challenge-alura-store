{
  "cells": [
    {
      "cell_type": "markdown",
      "id": "ec21ba17",
      "metadata": {
        "id": "ec21ba17"
      },
      "source": [
        "#Introdução"
      ]
    },
    {
      "cell_type": "markdown",
      "id": "34d5f7d5",
      "metadata": {
        "id": "34d5f7d5"
      },
      "source": [
        "O propósito deste relatório é apresentar uma análise completa do desempenho das quatro lojas da Alura Store. O foco é fornecer ao Sr. João uma visão detalhada, examinando métricas como faturamento, satisfação dos clientes (avaliada por meio das notas de compra), custos de frete e as categorias das vendas. O objetivo principal é transformar esses dados em insights estratégicos que possam guiar a tomada de decisões, especialmente ao identificar a loja com o desempenho mais fraco para considerar sua venda."
      ]
    },
    {
      "cell_type": "markdown",
      "id": "bee55654",
      "metadata": {
        "id": "bee55654"
      },
      "source": [
        "#Análises"
      ]
    },
    {
      "cell_type": "markdown",
      "id": "f7e25642",
      "metadata": {
        "id": "f7e25642"
      },
      "source": [
        "- Faturamento\n",
        "\n",
        "Embora as quatro lojas da Alura Store demonstrem um bom desempenho de faturamento, a Loja 4 se destaca negativamente por ter o menor faturamento. Essa diferença aponta para a necessidade de um estudo mais aprofundado sobre suas operações, buscando maneiras de melhorar sua performance ou, caso contrário, avaliar outras opções estratégicas para a unidade.\n",
        "\n",
        "- Faturamento das Lojas:\n",
        "\n",
        "Loja 1: R$ 1.534.509,12\n",
        "\n",
        "Loja 2: R$ 1.488.459,06\n",
        "\n",
        "Loja 3: R$ 1.464.025,03\n",
        "\n",
        "Loja 4: R$ 1.384.497,58\n",
        "\n",
        "![Gráfico de barras representando o faturamento total de cada loja.](imagens/1graf_bar_1.png)"
      ]
    },
    {
      "cell_type": "markdown",
      "id": "56952441",
      "metadata": {
        "id": "56952441"
      },
      "source": [
        "- Vendas por categoria\n",
        "\n",
        "A análise de vendas mostra que todas as lojas da Alura Store têm as mesmas categorias de produtos como as mais vendidas. Isso demonstra uma consistência no padrão de consumo dos clientes, independentemente da unidade em que a compra foi realizada.\n",
        "\n",
        "As três categorias mais vendidas são Móveis, Eletrônicos e Brinquedos.\n",
        "\n",
        "![Gráfico de pizza mostrando as categorias mais vendidas da loja 1.](imagens/2_graf_piz_1.png)\n",
        "\n",
        "![Gráfico de pizza mostrando as categorias mais vendidas da loja 2.](imagens/3_graf_piz_2.png)\n",
        "\n",
        "![Gráfico de pizza mostrando as categorias mais vendidas da loja 3.](imagens/4_graf_piz_3.png)\n",
        "\n",
        "![Gráfico de pizza mostrando as categorias mais vendidas da loja 4.](imagens/5_graf_piz_4.png)"
      ]
    },
    {
      "cell_type": "markdown",
      "id": "f5697e03",
      "metadata": {
        "id": "f5697e03"
      },
      "source": [
        "- Média de Avaliação por Loja\n",
        "\n",
        "A análise das avaliações dos clientes mostra que todas as lojas da Alura Store mantêm um alto padrão de qualidade em seus produtos e atendimento. As médias de satisfação são bem parecidas entre as quatro unidades, embora a Loja 1 tenha registrado a menor pontuação. Isso sinaliza uma oportunidade para investigar e implementar melhorias direcionadas a essa loja.\n",
        "\n",
        "- Média de Avaliação por Loja em ordem decrescente:\n",
        "\n",
        "Loja 3: 4,05\n",
        "\n",
        "Loja 2: 4,04\n",
        "\n",
        "Loja 4: 4,00\n",
        "\n",
        "Loja 1: 3,98\n",
        "\n",
        "![Gráfico de linha mostrando a média da avaliação dos clientes em relação as lojas. ](imagens/6_graf_lin_1.png)"
      ]
    },
    {
      "cell_type": "markdown",
      "id": "134bb89f",
      "metadata": {
        "id": "134bb89f"
      },
      "source": [
        "- Produtos Mais e Menos Vendidos\n",
        "\n",
        "A análise dos produtos mais e menos vendidos em todas as lojas da Alura Store revela um padrão de consumo entre os clientes. Esses dados são valiosos para ajustar as estratégias do armazenamento e gestão do estoque, bem como a forma como deve ser elaborado o marketing.\n",
        "\n",
        "Loja 1\n",
        "\n",
        "Mais Vendidos: Micro-ondas (60), TV Led UHD 4K (60) e Guarda-roupas (60)\n",
        "Menos Vendidos: Panela de Pressão (35), Headset(33) e Celular ABXY (33)\n",
        "\n",
        "Loja 2\n",
        "\n",
        "Mais Vendidos: Iniciando em Programação (65), Micro-ondas (62), Bateria (61)\n",
        "Menos Vendidos: Mesa de jantar (34), Impressora (34) e Jogo de tabuleiro (32)\n",
        "\n",
        "Loja 3\n",
        "\n",
        "Mais Vendidos: Kit Banquetas (57), Mesa de Jantar (56), Cama King (56)\n",
        "Menos Vendidos: Mochila (36), Micro-ondas (36) e Blocos de montar (35)\n",
        "\n",
        "Loja 4\n",
        "\n",
        "Mais Vendidos: Cama Box (62), Faqueiro (59), Dashboards com Power BI (56)\n",
        "Menos Vendidos: Violão (37),  Guarda-roupas  (34) e Guitarra  (33)"
      ]
    },
    {
      "cell_type": "markdown",
      "id": "6f4af2e4",
      "metadata": {
        "id": "6f4af2e4"
      },
      "source": [
        "- Frete médio\n",
        "\n",
        "A análise dos custos de frete mostra uma variação entre as lojas da Alura Store. A Loja 1 tem o frete médio mais alto, de 34 reais e 69 centavos, enquanto a Loja 4 registra o menor valor, de 31 reais e 28 centavos. Essa diferença de R$ 3,41 sinaliza oportunidades de melhoria, principalmente na Loja 1.\n",
        "\n",
        "Frete Médio:\n",
        "- Loja 1: R$ 34.69\n",
        "\n",
        "- Loja 2: R$ 33.62\n",
        "\n",
        "- Loja 3: R$ 33.07\n",
        "\n",
        "- Loja 4: R$ 31.28"
      ]
    },
    {
      "cell_type": "markdown",
      "id": "ef9a0768",
      "metadata": {
        "id": "ef9a0768"
      },
      "source": [
        "#Conclusão"
      ]
    },
    {
      "cell_type": "markdown",
      "id": "f367ecf4",
      "metadata": {
        "id": "f367ecf4"
      },
      "source": [
        "Com base na análise detalhada dos dados, a Loja 4 é a principal candidata para uma possível venda. Apesar de sua eficiência logística, que se reflete no menor custo médio de frete (31 reais e 28 centavos), isso não supera a desvantagem de ter o menor faturamento entre as quatro unidades (R$ 1.384.497,58). As avaliações de clientes, com média de 4,00, são aceitáveis, mas não a destacam das demais, e a falta de alinhamento de seu estoque com o mercado, evidenciada pela baixa venda de produtos como violão e guarda-roupas, reforça a decisão estratégica."
      ]
    },
    {
      "cell_type": "markdown",
      "id": "da93ba06",
      "metadata": {
        "id": "da93ba06"
      },
      "source": [
        "#Justificativa"
      ]
    },
    {
      "cell_type": "markdown",
      "id": "edd3823b",
      "metadata": {
        "id": "edd3823b"
      },
      "source": [
        "Com base na análise de múltiplos indicadores, a Loja 4 é a principal candidata para uma ação estratégica, como a venda. Apesar de sua notável eficiência logística, refletida no menor custo médio de frete, essa vantagem não compensa seu baixo desempenho financeiro. A loja registrou o menor faturamento entre as quatro unidades, o que demonstra uma menor capacidade de geração de receita.\n",
        "\n",
        "Embora a loja mantenha uma média de avaliações de clientes aceitável (4,00), essa pontuação não é um diferencial competitivo forte o suficiente para justificar sua continuidade, dado o desempenho financeiro apresentado.\n",
        "\n",
        "A venda da Loja 4 é uma oportunidade estratégica para a Alura Store. Ela permitirá o redirecionamento de recursos para lojas com maior potencial, como a Loja 1, que, apesar de enfrentar desafios com custos de frete, é a que mais contribui para o faturamento da rede. Essa realocação pode fortalecer a competitividade e a lucratividade geral da empresa."
      ]
    }
  ],
  "metadata": {
    "language_info": {
      "name": "python"
    },
    "colab": {
      "provenance": []
    }
  },
  "nbformat": 4,
  "nbformat_minor": 5
}